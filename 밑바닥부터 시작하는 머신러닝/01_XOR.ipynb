{
  "cells": [
    {
      "cell_type": "markdown",
      "source": [
        "# Vector 연산"
      ],
      "metadata": {
        "id": "rEsyj73cFq4S"
      }
    },
    {
      "cell_type": "code",
      "source": [
        "import numpy as np"
      ],
      "metadata": {
        "id": "6Kl7B7kcKTDB"
      },
      "execution_count": null,
      "outputs": []
    },
    {
      "cell_type": "code",
      "execution_count": null,
      "metadata": {
        "id": "uVeui0BCSSEY"
      },
      "outputs": [],
      "source": [
        "# numpy 사용여부\n",
        "# scalar 연산, vector 연산, matrix 연산\n",
        "def NAND(x1, x2):\n",
        "    x = np.array([x1, x2])\n",
        "    w = np.array([-0.5, -0.5])\n",
        "    #b =  1.2   # all 1\n",
        "    #b =  1.1   # all 1\n",
        "    #b =  1.0   # nand\n",
        "    #b =  0.9   # nand\n",
        "    #b =  0.8   # nand\n",
        "    b =  0.7   # nand original\n",
        "    #b =  0.6   # nand\n",
        "    #b =  0.5   # nor\n",
        "    #b =  0.4   # nor\n",
        "    #b =  0.3   # nor\n",
        "    #b =  0.2   # nor\n",
        "    #b =  0.1   # nor\n",
        "    #b = -0.0   # all 0\n",
        "    #b = -0.1   # all 0\n",
        "    tmp = np.sum(w*x) + b\n",
        "    if tmp <= 0:\n",
        "        return 0\n",
        "    else:\n",
        "        return 1"
      ]
    },
    {
      "cell_type": "code",
      "source": [
        "for xs in [(0, 0), (1, 0), (0, 1), (1, 1)]:\n",
        "    y = NAND(xs[0], xs[1])\n",
        "    print(str(xs) + \" -> \" + str(y))"
      ],
      "metadata": {
        "colab": {
          "base_uri": "https://localhost:8080/"
        },
        "id": "dliUQwKcKN8P",
        "outputId": "54dca95c-4b9d-4215-e0f0-3df23f0d9f44"
      },
      "execution_count": null,
      "outputs": [
        {
          "output_type": "stream",
          "name": "stdout",
          "text": [
            "(0, 0) -> 1\n",
            "(1, 0) -> 1\n",
            "(0, 1) -> 1\n",
            "(1, 1) -> 0\n"
          ]
        }
      ]
    },
    {
      "cell_type": "code",
      "execution_count": null,
      "metadata": {
        "id": "GIbV5CyGSSEe"
      },
      "outputs": [],
      "source": [
        "def OR(x1, x2):\n",
        "    x = np.array([x1, x2])\n",
        "    w = np.array([0.5, 0.5])\n",
        "    b = -0.2\n",
        "    tmp = np.sum(w*x) + b\n",
        "    if tmp <= 0:\n",
        "        return 0\n",
        "    else:\n",
        "        return 1"
      ]
    },
    {
      "cell_type": "code",
      "source": [
        "for xs in [(0, 0), (1, 0), (0, 1), (1, 1)]:\n",
        "    y = OR(xs[0], xs[1])\n",
        "    print(str(xs) + \" -> \" + str(y))"
      ],
      "metadata": {
        "colab": {
          "base_uri": "https://localhost:8080/"
        },
        "id": "5JTpW9OgK1xN",
        "outputId": "67392e95-a48b-42f8-806b-18924c7b4a66"
      },
      "execution_count": null,
      "outputs": [
        {
          "output_type": "stream",
          "name": "stdout",
          "text": [
            "(0, 0) -> 0\n",
            "(1, 0) -> 1\n",
            "(0, 1) -> 1\n",
            "(1, 1) -> 1\n"
          ]
        }
      ]
    },
    {
      "cell_type": "code",
      "execution_count": null,
      "metadata": {
        "id": "unq0Q-cwSSEf"
      },
      "outputs": [],
      "source": [
        "def AND(x1, x2):\n",
        "    x = np.array([x1, x2])\n",
        "    w = np.array([1, 1])\n",
        "    b = -1.4\n",
        "    tmp = np.sum(w*x) + b\n",
        "    if tmp <= 0:\n",
        "        return 0\n",
        "    else:\n",
        "        return 1"
      ]
    },
    {
      "cell_type": "code",
      "source": [
        "for xs in [(0, 0), (1, 0), (0, 1), (1, 1)]:\n",
        "    y = AND(xs[0], xs[1])\n",
        "    print(str(xs) + \" -> \" + str(y))"
      ],
      "metadata": {
        "colab": {
          "base_uri": "https://localhost:8080/"
        },
        "id": "ml-IKAOWLECK",
        "outputId": "4ef7b7ee-693a-4f49-9e53-56119e6574a7"
      },
      "execution_count": null,
      "outputs": [
        {
          "output_type": "stream",
          "name": "stdout",
          "text": [
            "(0, 0) -> 0\n",
            "(1, 0) -> 0\n",
            "(0, 1) -> 0\n",
            "(1, 1) -> 1\n"
          ]
        }
      ]
    },
    {
      "cell_type": "code",
      "execution_count": null,
      "metadata": {
        "id": "yKjiyny8SSEg"
      },
      "outputs": [],
      "source": [
        "# coding: utf-8\n",
        "def XOR(x1, x2):\n",
        "    s1 = NAND(x1, x2)\n",
        "    s2 = OR(x1, x2)\n",
        "\n",
        "    y = AND(s1, s2)\n",
        "    return y"
      ]
    },
    {
      "cell_type": "code",
      "source": [
        "for xs in [(0, 0), (1, 0), (0, 1), (1, 1)]:\n",
        "    y = XOR(xs[0], xs[1])\n",
        "    print(str(xs) + \" -> \" + str(y))"
      ],
      "metadata": {
        "colab": {
          "base_uri": "https://localhost:8080/"
        },
        "id": "OV9FGyf9KCtY",
        "outputId": "7fa4e8c9-de01-4bd0-d5a4-2074660f5071"
      },
      "execution_count": null,
      "outputs": [
        {
          "output_type": "stream",
          "name": "stdout",
          "text": [
            "(0, 0) -> 0\n",
            "(1, 0) -> 1\n",
            "(0, 1) -> 1\n",
            "(1, 1) -> 0\n"
          ]
        }
      ]
    },
    {
      "cell_type": "markdown",
      "source": [
        "# Matrix 연산"
      ],
      "metadata": {
        "id": "qOF4VWUV4-rf"
      }
    },
    {
      "cell_type": "code",
      "source": [
        "def NAND_M(X):\n",
        "    W = np.array([[-0.5], [-0.5]])                     # (2, 1)\n",
        "    b = np.array([[0.7], [0.7], [0.7], [0.7]])         # (4, 1)\n",
        "    tmp = np.dot(X,W) + b                              # (4, 1)\n",
        "    RET = np.array([[0], [0], [0], [0]])\n",
        "    print(tmp)\n",
        "    for i, val in enumerate(tmp):\n",
        "        if val <= 0:\n",
        "            RET[i] = 0\n",
        "        else:\n",
        "            RET[i] = 1\n",
        "    return RET"
      ],
      "metadata": {
        "id": "S5b4bvFI5IP0"
      },
      "execution_count": null,
      "outputs": []
    },
    {
      "cell_type": "code",
      "source": [
        "X=np.array([[0, 0], [1, 0], [0, 1], [1, 1]])  # (4,2)\n",
        "#print(NAND_M(X))\n",
        "NAND_M(X)"
      ],
      "metadata": {
        "colab": {
          "base_uri": "https://localhost:8080/"
        },
        "id": "zj27iDjo6uAa",
        "outputId": "a8a32dce-465f-4bf6-dfd1-b467a04efe72"
      },
      "execution_count": null,
      "outputs": [
        {
          "output_type": "stream",
          "name": "stdout",
          "text": [
            "[[ 0.7]\n",
            " [ 0.2]\n",
            " [ 0.2]\n",
            " [-0.3]]\n"
          ]
        },
        {
          "output_type": "execute_result",
          "data": {
            "text/plain": [
              "array([[1],\n",
              "       [1],\n",
              "       [1],\n",
              "       [0]])"
            ]
          },
          "metadata": {},
          "execution_count": 49
        }
      ]
    },
    {
      "cell_type": "code",
      "source": [
        "def OR_M(X):\n",
        "    W = np.array([[0.5], [0.5]])                     # (2, 1)\n",
        "    b = np.array([[-0.2], [-0.2], [-0.2], [-0.2]])   # (4, 1)\n",
        "    tmp = np.dot(X,W) + b                            # (4, 1)\n",
        "    RET = np.array([[0], [0], [0], [0]])\n",
        "    print(tmp)\n",
        "    for i, val in enumerate(tmp):\n",
        "        if val <= 0:\n",
        "            RET[i] = 0\n",
        "        else:\n",
        "            RET[i] = 1\n",
        "    return RET"
      ],
      "metadata": {
        "id": "b_HZuiW8DFu3"
      },
      "execution_count": null,
      "outputs": []
    },
    {
      "cell_type": "code",
      "source": [
        "X=np.array([[0, 0], [1, 0], [0, 1], [1, 1]])  # (4,2)\n",
        "#print(NAND_M(X))\n",
        "OR_M(X)"
      ],
      "metadata": {
        "colab": {
          "base_uri": "https://localhost:8080/"
        },
        "outputId": "0a03797f-b2cc-4d44-b172-4d8b7c053b7b",
        "id": "N-Ht9_ScDFu_"
      },
      "execution_count": null,
      "outputs": [
        {
          "output_type": "stream",
          "name": "stdout",
          "text": [
            "[[-0.2]\n",
            " [ 0.3]\n",
            " [ 0.3]\n",
            " [ 0.8]]\n"
          ]
        },
        {
          "output_type": "execute_result",
          "data": {
            "text/plain": [
              "array([[0],\n",
              "       [1],\n",
              "       [1],\n",
              "       [1]])"
            ]
          },
          "metadata": {},
          "execution_count": 45
        }
      ]
    },
    {
      "cell_type": "markdown",
      "source": [],
      "metadata": {
        "id": "9kLBdoCxDk6x"
      }
    },
    {
      "cell_type": "code",
      "source": [
        "def AND_M(X):\n",
        "    W = np.array([[0.5], [0.5]])                     # (2, 1)\n",
        "    b = np.array([[-0.7], [-0.7], [-0.7], [-0.7]])   # (4, 1)\n",
        "    tmp = np.dot(X,W) + b                            # (4, 1)\n",
        "    RET = np.array([[0], [0], [0], [0]])\n",
        "    print(tmp)\n",
        "    for i, val in enumerate(tmp):\n",
        "        if val <= 0:\n",
        "            RET[i] = 0\n",
        "        else:\n",
        "            RET[i] = 1\n",
        "    return RET"
      ],
      "metadata": {
        "id": "E0gTQTM_DhQ8"
      },
      "execution_count": null,
      "outputs": []
    },
    {
      "cell_type": "code",
      "source": [
        "X=np.array([[0, 0], [1, 0], [0, 1], [1, 1]])  # (4,2)\n",
        "#print(NAND_M(X))\n",
        "AND_M(X)"
      ],
      "metadata": {
        "colab": {
          "base_uri": "https://localhost:8080/"
        },
        "outputId": "c41111d2-aaf1-4ce7-9bbd-cbeeaefb3e76",
        "id": "973lbtfWDhRC"
      },
      "execution_count": null,
      "outputs": [
        {
          "output_type": "stream",
          "name": "stdout",
          "text": [
            "[[-0.7]\n",
            " [-0.2]\n",
            " [-0.2]\n",
            " [ 0.3]]\n"
          ]
        },
        {
          "output_type": "execute_result",
          "data": {
            "text/plain": [
              "array([[0],\n",
              "       [0],\n",
              "       [0],\n",
              "       [1]])"
            ]
          },
          "metadata": {},
          "execution_count": 43
        }
      ]
    },
    {
      "cell_type": "code",
      "source": [
        "def XOR_M(X):\n",
        "    S1 = NAND_M(X)\n",
        "    S2 = OR_M(X)\n",
        "    S = np.concatenate((S1, S2), axis=1)\n",
        "    y = AND_M(S)\n",
        "    return y"
      ],
      "metadata": {
        "id": "kQ8QsysbEIuf"
      },
      "execution_count": null,
      "outputs": []
    },
    {
      "cell_type": "code",
      "source": [
        "X=np.array([[0, 0], [1, 0], [0, 1], [1, 1]])  # (4,2)\n",
        "#print(NAND_M(X))\n",
        "XOR_M(X)"
      ],
      "metadata": {
        "colab": {
          "base_uri": "https://localhost:8080/"
        },
        "id": "bAHCxr0RG3LV",
        "outputId": "2e40ee1e-8b3c-4232-9982-2175ab5c4fe3"
      },
      "execution_count": null,
      "outputs": [
        {
          "output_type": "stream",
          "name": "stdout",
          "text": [
            "[[ 0.7]\n",
            " [ 0.2]\n",
            " [ 0.2]\n",
            " [-0.3]]\n",
            "[[-0.2]\n",
            " [ 0.3]\n",
            " [ 0.3]\n",
            " [ 0.8]]\n",
            "[[-0.2]\n",
            " [ 0.3]\n",
            " [ 0.3]\n",
            " [-0.2]]\n"
          ]
        },
        {
          "output_type": "execute_result",
          "data": {
            "text/plain": [
              "array([[0],\n",
              "       [1],\n",
              "       [1],\n",
              "       [0]])"
            ]
          },
          "metadata": {},
          "execution_count": 51
        }
      ]
    },
    {
      "cell_type": "markdown",
      "source": [
        "concat 없이 출력"
      ],
      "metadata": {
        "id": "1yHS_kKRePrA"
      }
    },
    {
      "cell_type": "code",
      "source": [
        "def NAND_OR_M(X):\n",
        "    W = np.array([[-0.5, 0.5], [-0.5, 0.5]])                           # (2, 2)\n",
        "    b = np.array([[0.7, -0.2], [0.7, -0.2], [0.7, -0.2], [0.7, -0.2]]) # (4, 2)\n",
        "    tmp = np.dot(X,W) + b                                              # (4, 2)\n",
        "    print(tmp)\n",
        "    RET = np.array([[0,0], [0,0], [0,0], [0,0]])\n",
        "    for i, vals in enumerate(tmp):\n",
        "        for j, val in enumerate(vals):\n",
        "            if val <= 0:\n",
        "                RET[i][j] = 0\n",
        "            else:\n",
        "                RET[i][j] = 1\n",
        "    return RET"
      ],
      "metadata": {
        "id": "LJKdf1QOebts"
      },
      "execution_count": null,
      "outputs": []
    },
    {
      "cell_type": "code",
      "source": [
        "X=np.array([[0, 0], [1, 0], [0, 1], [1, 1]])  # (4,2)\n",
        "NAND_OR_M(X)"
      ],
      "metadata": {
        "colab": {
          "base_uri": "https://localhost:8080/"
        },
        "id": "3yEmAEKxfFHZ",
        "outputId": "092e5ef9-bbb5-4367-e5aa-9d2d56ecdf54"
      },
      "execution_count": null,
      "outputs": [
        {
          "output_type": "stream",
          "name": "stdout",
          "text": [
            "[[ 0.7 -0.2]\n",
            " [ 0.2  0.3]\n",
            " [ 0.2  0.3]\n",
            " [-0.3  0.8]]\n"
          ]
        },
        {
          "output_type": "execute_result",
          "data": {
            "text/plain": [
              "array([[1, 0],\n",
              "       [1, 1],\n",
              "       [1, 1],\n",
              "       [0, 1]])"
            ]
          },
          "metadata": {},
          "execution_count": 56
        }
      ]
    },
    {
      "cell_type": "code",
      "source": [
        "def XOR_MM(X):\n",
        "    S = NAND_OR_M(X)\n",
        "    y = AND_M(S)\n",
        "    return y"
      ],
      "metadata": {
        "id": "iR83SlQ6f_2C"
      },
      "execution_count": null,
      "outputs": []
    },
    {
      "cell_type": "code",
      "source": [
        "X=np.array([[0, 0], [1, 0], [0, 1], [1, 1]])  # (4,2)\n",
        "XOR_MM(X)"
      ],
      "metadata": {
        "colab": {
          "base_uri": "https://localhost:8080/"
        },
        "id": "kxke3so7gJa9",
        "outputId": "90615110-00c1-488b-e52d-cdbb308b0c1e"
      },
      "execution_count": null,
      "outputs": [
        {
          "output_type": "stream",
          "name": "stdout",
          "text": [
            "[[ 0.7 -0.2]\n",
            " [ 0.2  0.3]\n",
            " [ 0.2  0.3]\n",
            " [-0.3  0.8]]\n",
            "[[-0.2]\n",
            " [ 0.3]\n",
            " [ 0.3]\n",
            " [-0.2]]\n"
          ]
        },
        {
          "output_type": "execute_result",
          "data": {
            "text/plain": [
              "array([[0],\n",
              "       [1],\n",
              "       [1],\n",
              "       [0]])"
            ]
          },
          "metadata": {},
          "execution_count": 58
        }
      ]
    },
    {
      "cell_type": "markdown",
      "source": [
        "dictionary 형식으로 정리"
      ],
      "metadata": {
        "id": "L4ek3Sn6ocZk"
      }
    }
  ],
  "metadata": {
    "kernelspec": {
      "display_name": "Python 3 (ipykernel)",
      "language": "python",
      "name": "python3"
    },
    "language_info": {
      "codemirror_mode": {
        "name": "ipython",
        "version": 3
      },
      "file_extension": ".py",
      "mimetype": "text/x-python",
      "name": "python",
      "nbconvert_exporter": "python",
      "pygments_lexer": "ipython3",
      "version": "3.9.7"
    },
    "colab": {
      "provenance": []
    }
  },
  "nbformat": 4,
  "nbformat_minor": 0
}