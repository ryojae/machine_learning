{
  "nbformat": 4,
  "nbformat_minor": 0,
  "metadata": {
    "colab": {
      "provenance": []
    },
    "kernelspec": {
      "name": "python3",
      "display_name": "Python 3"
    },
    "language_info": {
      "name": "python"
    }
  },
  "cells": [
    {
      "cell_type": "markdown",
      "source": [
        "# 문제"
      ],
      "metadata": {
        "id": "pVhkcak0SJET"
      }
    },
    {
      "cell_type": "markdown",
      "source": [
        "- 아래 마직막 코드는 Blur, identity, outline, Sharpen, bottom sobel 5개 필터를 사용하여 5개의 출력을 얻었습니다.\n",
        "  Blur, outline, bottom sobel 3개의 필터를 사용하여 3개의 출력을 얻도록 코드를 수정하시오."
      ],
      "metadata": {
        "id": "TXc-sUNaSLlT"
      }
    },
    {
      "cell_type": "code",
      "execution_count": null,
      "metadata": {
        "id": "MimUHHBlRPUr"
      },
      "outputs": [],
      "source": [
        "import torch\n",
        "from torch.autograd import Variable\n",
        "import torchvision.datasets as dsets\n",
        "import torchvision.transforms as transforms\n",
        "import torch.nn.init\n",
        "import numpy as np\n",
        "import matplotlib.pyplot as plt"
      ]
    },
    {
      "cell_type": "code",
      "source": [
        "mnist_train = dsets.MNIST(root='MNIST_data/',\n",
        "                          train=True,\n",
        "                          transform=transforms.ToTensor(),\n",
        "                          download=True)\n",
        "\n",
        "img, _ = mnist_train[0] # x is now a torch.Tensor\n",
        "print([img.ndim, img.shape, img.dtype])\n",
        "\n",
        "plt.imshow(img.numpy()[0], cmap='gray')"
      ],
      "metadata": {
        "colab": {
          "base_uri": "https://localhost:8080/",
          "height": 1000
        },
        "id": "uvH1tsH9Rtfx",
        "outputId": "647502fe-2953-4bec-e5b3-4f733f279c34"
      },
      "execution_count": null,
      "outputs": [
        {
          "output_type": "stream",
          "name": "stdout",
          "text": [
            "Downloading http://yann.lecun.com/exdb/mnist/train-images-idx3-ubyte.gz\n",
            "Failed to download (trying next):\n",
            "HTTP Error 403: Forbidden\n",
            "\n",
            "Downloading https://ossci-datasets.s3.amazonaws.com/mnist/train-images-idx3-ubyte.gz\n",
            "Downloading https://ossci-datasets.s3.amazonaws.com/mnist/train-images-idx3-ubyte.gz to MNIST_data/MNIST/raw/train-images-idx3-ubyte.gz\n"
          ]
        },
        {
          "output_type": "stream",
          "name": "stderr",
          "text": [
            "100%|██████████| 9912422/9912422 [00:00<00:00, 142091576.99it/s]\n"
          ]
        },
        {
          "output_type": "stream",
          "name": "stdout",
          "text": [
            "Extracting MNIST_data/MNIST/raw/train-images-idx3-ubyte.gz to MNIST_data/MNIST/raw\n",
            "\n",
            "Downloading http://yann.lecun.com/exdb/mnist/train-labels-idx1-ubyte.gz\n",
            "Failed to download (trying next):\n",
            "HTTP Error 403: Forbidden\n",
            "\n",
            "Downloading https://ossci-datasets.s3.amazonaws.com/mnist/train-labels-idx1-ubyte.gz\n",
            "Downloading https://ossci-datasets.s3.amazonaws.com/mnist/train-labels-idx1-ubyte.gz to MNIST_data/MNIST/raw/train-labels-idx1-ubyte.gz\n"
          ]
        },
        {
          "output_type": "stream",
          "name": "stderr",
          "text": [
            "100%|██████████| 28881/28881 [00:00<00:00, 20189282.30it/s]"
          ]
        },
        {
          "output_type": "stream",
          "name": "stdout",
          "text": [
            "Extracting MNIST_data/MNIST/raw/train-labels-idx1-ubyte.gz to MNIST_data/MNIST/raw\n",
            "\n",
            "Downloading http://yann.lecun.com/exdb/mnist/t10k-images-idx3-ubyte.gz\n"
          ]
        },
        {
          "output_type": "stream",
          "name": "stderr",
          "text": [
            "\n"
          ]
        },
        {
          "output_type": "stream",
          "name": "stdout",
          "text": [
            "Failed to download (trying next):\n",
            "HTTP Error 403: Forbidden\n",
            "\n",
            "Downloading https://ossci-datasets.s3.amazonaws.com/mnist/t10k-images-idx3-ubyte.gz\n",
            "Downloading https://ossci-datasets.s3.amazonaws.com/mnist/t10k-images-idx3-ubyte.gz to MNIST_data/MNIST/raw/t10k-images-idx3-ubyte.gz\n"
          ]
        },
        {
          "output_type": "stream",
          "name": "stderr",
          "text": [
            "100%|██████████| 1648877/1648877 [00:00<00:00, 108010173.30it/s]\n"
          ]
        },
        {
          "output_type": "stream",
          "name": "stdout",
          "text": [
            "Extracting MNIST_data/MNIST/raw/t10k-images-idx3-ubyte.gz to MNIST_data/MNIST/raw\n",
            "\n",
            "Downloading http://yann.lecun.com/exdb/mnist/t10k-labels-idx1-ubyte.gz\n",
            "Failed to download (trying next):\n",
            "HTTP Error 403: Forbidden\n",
            "\n",
            "Downloading https://ossci-datasets.s3.amazonaws.com/mnist/t10k-labels-idx1-ubyte.gz\n",
            "Downloading https://ossci-datasets.s3.amazonaws.com/mnist/t10k-labels-idx1-ubyte.gz to MNIST_data/MNIST/raw/t10k-labels-idx1-ubyte.gz\n"
          ]
        },
        {
          "output_type": "stream",
          "name": "stderr",
          "text": [
            "100%|██████████| 4542/4542 [00:00<00:00, 8344515.45it/s]"
          ]
        },
        {
          "output_type": "stream",
          "name": "stdout",
          "text": [
            "Extracting MNIST_data/MNIST/raw/t10k-labels-idx1-ubyte.gz to MNIST_data/MNIST/raw\n",
            "\n",
            "[3, torch.Size([1, 28, 28]), torch.float32]\n"
          ]
        },
        {
          "output_type": "stream",
          "name": "stderr",
          "text": [
            "\n"
          ]
        },
        {
          "output_type": "execute_result",
          "data": {
            "text/plain": [
              "<matplotlib.image.AxesImage at 0x7f0373522980>"
            ]
          },
          "metadata": {},
          "execution_count": 2
        },
        {
          "output_type": "display_data",
          "data": {
            "text/plain": [
              "<Figure size 640x480 with 1 Axes>"
            ],
            "image/png": "[encoded data removed]"
          },
          "metadata": {}
        }
      ]
    },
    {
      "cell_type": "code",
      "source": [
        "img, _ = mnist_train[1] # x is now a torch.Tensor\n",
        "plt.imshow(img.numpy()[0], cmap='gray')"
      ],
      "metadata": {
        "colab": {
          "base_uri": "https://localhost:8080/",
          "height": 449
        },
        "id": "5eF94jBeR447",
        "outputId": "e8e88e04-af28-4c88-9f4d-2030da327984"
      },
      "execution_count": null,
      "outputs": [
        {
          "output_type": "execute_result",
          "data": {
            "text/plain": [
              "<matplotlib.image.AxesImage at 0x7f03714569e0>"
            ]
          },
          "metadata": {},
          "execution_count": 3
        },
        {
          "output_type": "display_data",
          "data": {
            "text/plain": [
              "<Figure size 640x480 with 1 Axes>"
            ],
            "image/png": "[encoded data removed]"
          },
          "metadata": {}
        }
      ]
    },
    {
      "cell_type": "code",
      "source": [
        "img = img.reshape(-1,1,28,28)\n",
        "# print(\"img:\\n\", img)\n",
        "print(\"img.shape\", img.shape)\n",
        "\n",
        "weight_01 = np.array([\n",
        "#Blur\n",
        " [[[0.0625, 0.125, 0.0625],\n",
        "   [0.125,  0.25,  0.125],\n",
        "   [0.0625, 0.125, 0.0625]]],\n",
        "#identity\n",
        " [[[ 0.,     0.,    0.],\n",
        "   [ 0.,     1.,    0.],\n",
        "   [ 0.,     0.,    0.]]],\n",
        "#outline\n",
        " [[[-1.,    -1.,   -1.],\n",
        "   [-1.,     8.,   -1.],\n",
        "   [-1.,    -1.,   -1.]]],\n",
        "#Sharpen\n",
        " [[[ 0.,    -1.,    0.],\n",
        "   [-1.,     5.,   -1.],\n",
        "   [ 0.,    -1.,    0.]]],\n",
        "#bottom sobel\n",
        " [[[-1.,    -2.,   -1.],\n",
        "   [ 0.,     0.,    0.],\n",
        "   [ 1.,     2.,    1.]]]\n",
        "])\n",
        "\n",
        "print(weight_01.shape)\n",
        "\n",
        "\n",
        "conv1 = torch.nn.Conv2d(1, 5, kernel_size=3, stride=1, padding=1)\n",
        "conv1.weight.data = torch.Tensor(weight_01)\n",
        "\n",
        "conv2d_img_01 = conv1(Variable(img))\n",
        "print(\"conv2d_img_01.shape\", conv2d_img_01.shape)\n",
        "conv2d_img_01_numpy = conv2d_img_01.detach().numpy()\n",
        "conv2d_img_01_numpy = np.swapaxes(conv2d_img_01_numpy, 0, 1)\n",
        "for i, one_img in enumerate(conv2d_img_01_numpy):\n",
        "    #print(one_img.shape)\n",
        "    #print(one_img.reshape(28,28))\n",
        "    plt.subplot(1,5,i+1), plt.imshow(one_img.reshape(28,28), cmap='gray')"
      ],
      "metadata": {
        "colab": {
          "base_uri": "https://localhost:8080/",
          "height": 206
        },
        "id": "3HSFBjuuSw-w",
        "outputId": "5a728815-1324-4507-ff59-0cc3c6a62b14"
      },
      "execution_count": null,
      "outputs": [
        {
          "output_type": "stream",
          "name": "stdout",
          "text": [
            "img.shape torch.Size([1, 1, 28, 28])\n",
            "(5, 1, 3, 3)\n",
            "conv2d_img_01.shape torch.Size([1, 5, 28, 28])\n"
          ]
        },
        {
          "output_type": "display_data",
          "data": {
            "text/plain": [
              "<Figure size 640x480 with 5 Axes>"
            ],
            "image/png": "[encoded data removed]"
          },
          "metadata": {}
        }
      ]
    },
    {
      "cell_type": "markdown",
      "source": [
        "# 정답"
      ],
      "metadata": {
        "id": "yENN0efZSwdd"
      }
    },
    {
      "cell_type": "code",
      "source": [
        "img = img.reshape(-1,1,28,28)\n",
        "# print(\"img:\\n\", img)\n",
        "print(\"img.shape\", img.shape)\n",
        "\n",
        "weight_01 = np.array([\n",
        "#Blur\n",
        " [[[0.0625, 0.125, 0.0625],\n",
        "   [0.125,  0.25,  0.125],\n",
        "   [0.0625, 0.125, 0.0625]]],\n",
        "#outline\n",
        " [[[-1.,    -1.,   -1.],\n",
        "   [-1.,     8.,   -1.],\n",
        "   [-1.,    -1.,   -1.]]],\n",
        "#bottom sobel\n",
        " [[[-1.,    -2.,   -1.],\n",
        "   [ 0.,     0.,    0.],\n",
        "   [ 1.,     2.,    1.]]]\n",
        "])\n",
        "\n",
        "print(weight_01.shape)\n",
        "\n",
        "\n",
        "conv1 = torch.nn.Conv2d(1, 3, kernel_size=3, stride=1, padding=1)\n",
        "conv1.weight.data = torch.Tensor(weight_01)\n",
        "\n",
        "conv2d_img_01 = conv1(Variable(img))\n",
        "print(\"conv2d_img_01.shape\", conv2d_img_01.shape)\n",
        "conv2d_img_01_numpy = conv2d_img_01.detach().numpy()\n",
        "conv2d_img_01_numpy = np.swapaxes(conv2d_img_01_numpy, 0, 1)\n",
        "for i, one_img in enumerate(conv2d_img_01_numpy):\n",
        "    #print(one_img.shape)\n",
        "    #print(one_img.reshape(28,28))\n",
        "    plt.subplot(1,5,i+1), plt.imshow(one_img.reshape(28,28), cmap='gray')"
      ],
      "metadata": {
        "colab": {
          "base_uri": "https://localhost:8080/",
          "height": 206
        },
        "id": "NYSLXMqaSC1I",
        "outputId": "a6f47f75-f9c8-40de-af88-322e86743c79"
      },
      "execution_count": null,
      "outputs": [
        {
          "output_type": "stream",
          "name": "stdout",
          "text": [
            "img.shape torch.Size([1, 1, 28, 28])\n",
            "(3, 1, 3, 3)\n",
            "conv2d_img_01.shape torch.Size([1, 3, 28, 28])\n"
          ]
        },
        {
          "output_type": "display_data",
          "data": {
            "text/plain": [
              "<Figure size 640x480 with 3 Axes>"
            ],
            "image/png": "[encoded data removed]"
          },
          "metadata": {}
        }
      ]
    }
  ]
}