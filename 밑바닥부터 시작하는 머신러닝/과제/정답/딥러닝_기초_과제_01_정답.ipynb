{
  "cells": [
    {
      "cell_type": "markdown",
      "source": [
        "#문제"
      ],
      "metadata": {
        "id": "CBwMjmqXEb16"
      }
    },
    {
      "cell_type": "markdown",
      "source": [
        "$w_{1} = 0.2$,  $w_{2}= 0.2$일 때 임계값 theta 또는 bias를 정하고 아래의 함수를 완성하시오.\n",
        "- 스칼라 연산\n",
        "  - 임계값 theta를 사용하여 or, and, nor, nand, xor를 구함\n",
        "  - bias 사용하여 or, and, nor, nand, xor를 구함\n",
        "- 벡터 연산\n",
        "  - 넘파이 np.sum을 사용하여 or, and, nor, nand, xor를 구함"
      ],
      "metadata": {
        "id": "SNkknlU6Houc"
      }
    },
    {
      "cell_type": "markdown",
      "source": [
        "#SCALAR 연산"
      ],
      "metadata": {
        "id": "97Ksskx2E6uh"
      }
    },
    {
      "cell_type": "markdown",
      "source": [
        "## 임계값 theta로 구현\n",
        "\n"
      ],
      "metadata": {
        "id": "bEwJjIshRw16"
      }
    },
    {
      "cell_type": "markdown",
      "source": [
        "$$\n",
        " y=\n",
        "\\begin{cases}\n",
        "0&(w_{1} x_{1} + w_{2} x_{2} \\leq {\\theta})\\\\\n",
        "1&(w_{1} x_{1} + w_{2} x_{2} > {\\theta})\n",
        "\\end{cases}\n",
        "$$"
      ],
      "metadata": {
        "id": "h5yTo5ObQPTg"
      }
    },
    {
      "cell_type": "markdown",
      "source": [
        "### or 함수"
      ],
      "metadata": {
        "id": "ylbSFpFNILA-"
      }
    },
    {
      "cell_type": "code",
      "source": [
        "def OR(x1, x2):\n",
        "    w1, w2, theta = 0.2, 0.2, 0.08       # or\n",
        "    tmp = x1 * w1 + x2 * w2\n",
        "    if tmp <= theta:\n",
        "        return 0\n",
        "    elif tmp > theta:\n",
        "        return 1\n",
        "\n",
        "if __name__ == '__main__':\n",
        "    for xs in [(0, 0), (1, 0), (0, 1), (1, 1)]:\n",
        "        y = OR(xs[0], xs[1])\n",
        "        print(str(xs) + \" -> \" + str(y))"
      ],
      "metadata": {
        "colab": {
          "base_uri": "https://localhost:8080/"
        },
        "id": "X0JibPFcTPPq",
        "outputId": "9e9f0a38-dfc6-4b5c-b8d6-754d6c7bdcef"
      },
      "execution_count": null,
      "outputs": [
        {
          "output_type": "stream",
          "name": "stdout",
          "text": [
            "(0, 0) -> 0\n",
            "(1, 0) -> 1\n",
            "(0, 1) -> 1\n",
            "(1, 1) -> 1\n"
          ]
        }
      ]
    },
    {
      "cell_type": "markdown",
      "source": [
        "### and 함수"
      ],
      "metadata": {
        "id": "uEZNwJhEIQjm"
      }
    },
    {
      "cell_type": "markdown",
      "source": [
        "위 OR 카피 후에 theta 변경 구현"
      ],
      "metadata": {
        "id": "OwRCK_1pXonl"
      }
    },
    {
      "cell_type": "code",
      "source": [
        "def AND(x1, x2):\n",
        "    w1, w2, theta = 0.2, 0.2, 0.28       # and\n",
        "    tmp = x1 * w1 + x2 * w2\n",
        "    if tmp <= theta:\n",
        "        return 0\n",
        "    elif tmp > theta:\n",
        "        return 1\n",
        "\n",
        "if __name__ == '__main__':\n",
        "    for xs in [(0, 0), (1, 0), (0, 1), (1, 1)]:\n",
        "        y = AND(xs[0], xs[1])\n",
        "        print(str(xs) + \" -> \" + str(y))"
      ],
      "metadata": {
        "colab": {
          "base_uri": "https://localhost:8080/"
        },
        "outputId": "e28e059d-0b11-4416-8443-c045620ddd55",
        "id": "Xx2aKpOQNGAC"
      },
      "execution_count": null,
      "outputs": [
        {
          "output_type": "stream",
          "name": "stdout",
          "text": [
            "(0, 0) -> 0\n",
            "(1, 0) -> 0\n",
            "(0, 1) -> 0\n",
            "(1, 1) -> 1\n"
          ]
        }
      ]
    },
    {
      "cell_type": "markdown",
      "source": [
        "### nor 함수"
      ],
      "metadata": {
        "id": "fdMCQvvzIT7z"
      }
    },
    {
      "cell_type": "code",
      "source": [
        "def NOR(x1, x2):\n",
        "    w1, w2, theta = -0.2, -0.2, -0.08    # nor\n",
        "    tmp = x1 * w1 + x2 * w2\n",
        "    if tmp <= theta:\n",
        "        return 0\n",
        "    elif tmp > theta:\n",
        "        return 1\n",
        "\n",
        "if __name__ == '__main__':\n",
        "    for xs in [(0, 0), (1, 0), (0, 1), (1, 1)]:\n",
        "        y = NOR(xs[0], xs[1])\n",
        "        print(str(xs) + \" -> \" + str(y))"
      ],
      "metadata": {
        "colab": {
          "base_uri": "https://localhost:8080/"
        },
        "outputId": "0e3ba237-d06e-4162-cfb9-5b135d7b2e0d",
        "id": "ANm9eSIxNGwV"
      },
      "execution_count": null,
      "outputs": [
        {
          "output_type": "stream",
          "name": "stdout",
          "text": [
            "(0, 0) -> 1\n",
            "(1, 0) -> 0\n",
            "(0, 1) -> 0\n",
            "(1, 1) -> 0\n"
          ]
        }
      ]
    },
    {
      "cell_type": "markdown",
      "source": [
        "### nand 함수"
      ],
      "metadata": {
        "id": "eO0AbYRlIW6H"
      }
    },
    {
      "cell_type": "code",
      "source": [
        "def NAND(x1, x2):\n",
        "    w1, w2, theta = -0.2, -0.2, -0.28    # nand\n",
        "    tmp = x1 * w1 + x2 * w2\n",
        "    if tmp <= theta:\n",
        "        return 0\n",
        "    elif tmp > theta:\n",
        "        return 1\n",
        "\n",
        "if __name__ == '__main__':\n",
        "    for xs in [(0, 0), (1, 0), (0, 1), (1, 1)]:\n",
        "        y = NAND(xs[0], xs[1])\n",
        "        print(str(xs) + \" -> \" + str(y))"
      ],
      "metadata": {
        "colab": {
          "base_uri": "https://localhost:8080/"
        },
        "outputId": "926cf47c-5df5-484e-9734-7db5d0b31040",
        "id": "33TAuGlkNb15"
      },
      "execution_count": null,
      "outputs": [
        {
          "output_type": "stream",
          "name": "stdout",
          "text": [
            "(0, 0) -> 1\n",
            "(1, 0) -> 1\n",
            "(0, 1) -> 1\n",
            "(1, 1) -> 0\n"
          ]
        }
      ]
    },
    {
      "cell_type": "markdown",
      "source": [
        "### xor 함수"
      ],
      "metadata": {
        "id": "SedV67wWId5T"
      }
    },
    {
      "cell_type": "code",
      "source": [
        "def XOR(x1, x2):\n",
        "    s1 = NAND(x1, x2)\n",
        "    s2 = OR(x1, x2)\n",
        "\n",
        "    y = AND(s1, s2)\n",
        "    return y\n",
        "\n",
        "if __name__ == '__main__':\n",
        "    for xs in [(0, 0), (1, 0), (0, 1), (1, 1)]:\n",
        "        y = XOR(xs[0], xs[1])\n",
        "        print(str(xs) + \" -> \" + str(y))"
      ],
      "metadata": {
        "colab": {
          "base_uri": "https://localhost:8080/"
        },
        "id": "unNe_epMIhvo",
        "outputId": "50adeb62-4b13-4d17-c3d9-6fd35ea72a50"
      },
      "execution_count": null,
      "outputs": [
        {
          "output_type": "stream",
          "name": "stdout",
          "text": [
            "(0, 0) -> 0\n",
            "(1, 0) -> 1\n",
            "(0, 1) -> 1\n",
            "(1, 1) -> 0\n"
          ]
        }
      ]
    },
    {
      "cell_type": "markdown",
      "source": [
        "## 편향 b를 사용하여 구현\n",
        "\n"
      ],
      "metadata": {
        "id": "Vsidlt5dEV2K"
      }
    },
    {
      "cell_type": "markdown",
      "source": [
        "$$\n",
        " y=\n",
        "\\begin{cases}\n",
        "0&(b + w_{1} x_{1} + w_{2} x_{2} \\leq 0)\\\\\n",
        "1&(b + w_{1} x_{1} + w_{2} x_{2} > 0)\n",
        "\\end{cases}\n",
        "$$"
      ],
      "metadata": {
        "id": "wh3SlW1rXdQv"
      }
    },
    {
      "cell_type": "markdown",
      "source": [
        "### or 함수"
      ],
      "metadata": {
        "id": "rAKfBap-Ilzm"
      }
    },
    {
      "cell_type": "code",
      "source": [
        "def OR(x1, x2):\n",
        "    w1, w2, b = 0.2, 0.2, -0.08       # or\n",
        "    tmp = x1 * w1 + x2 * w2 + b\n",
        "    if tmp <= 0:\n",
        "        return 0\n",
        "    elif tmp > 0:\n",
        "        return 1\n",
        "\n",
        "if __name__ == '__main__':\n",
        "    for xs in [(0, 0), (1, 0), (0, 1), (1, 1)]:\n",
        "        y = OR(xs[0], xs[1])\n",
        "        print(str(xs) + \" -> \" + str(y))"
      ],
      "metadata": {
        "colab": {
          "base_uri": "https://localhost:8080/"
        },
        "outputId": "bb346f00-3e9c-4606-bc51-c26df4168d04",
        "id": "sg3ul-kuQETy"
      },
      "execution_count": null,
      "outputs": [
        {
          "output_type": "stream",
          "name": "stdout",
          "text": [
            "(0, 0) -> 0\n",
            "(1, 0) -> 1\n",
            "(0, 1) -> 1\n",
            "(1, 1) -> 1\n"
          ]
        }
      ]
    },
    {
      "cell_type": "markdown",
      "source": [
        "### and 함수"
      ],
      "metadata": {
        "id": "fPCE2IuMIlzn"
      }
    },
    {
      "cell_type": "markdown",
      "source": [
        "위 OR 카피 후에 b 변경 구현"
      ],
      "metadata": {
        "id": "aXAh-ApsX_bC"
      }
    },
    {
      "cell_type": "code",
      "source": [
        "def AND(x1, x2):\n",
        "    w1, w2, b = 0.2, 0.2, -0.28       # and\n",
        "    tmp = x1 * w1 + x2 * w2 + b\n",
        "    if tmp <= 0:\n",
        "        return 0\n",
        "    elif tmp > 0:\n",
        "        return 1\n",
        "\n",
        "if __name__ == '__main__':\n",
        "    for xs in [(0, 0), (1, 0), (0, 1), (1, 1)]:\n",
        "        y = AND(xs[0], xs[1])\n",
        "        print(str(xs) + \" -> \" + str(y))"
      ],
      "metadata": {
        "colab": {
          "base_uri": "https://localhost:8080/"
        },
        "outputId": "af4b089f-cdf6-4845-b74b-3cfb1f34331e",
        "id": "d0TZONrTQY7i"
      },
      "execution_count": null,
      "outputs": [
        {
          "output_type": "stream",
          "name": "stdout",
          "text": [
            "(0, 0) -> 0\n",
            "(1, 0) -> 0\n",
            "(0, 1) -> 0\n",
            "(1, 1) -> 1\n"
          ]
        }
      ]
    },
    {
      "cell_type": "markdown",
      "source": [
        "### nor 함수"
      ],
      "metadata": {
        "id": "z8iBP_shIlzo"
      }
    },
    {
      "cell_type": "code",
      "source": [
        "def NOR(x1, x2):\n",
        "    w1, w2, b = -0.2, -0.2, 0.08    # nor\n",
        "    tmp = x1 * w1 + x2 * w2 + b\n",
        "    if tmp <= 0:\n",
        "        return 0\n",
        "    elif tmp > 0:\n",
        "        return 1\n",
        "\n",
        "if __name__ == '__main__':\n",
        "    for xs in [(0, 0), (1, 0), (0, 1), (1, 1)]:\n",
        "        y = NOR(xs[0], xs[1])\n",
        "        print(str(xs) + \" -> \" + str(y))"
      ],
      "metadata": {
        "colab": {
          "base_uri": "https://localhost:8080/"
        },
        "outputId": "1e478b3d-c9e0-4947-9797-210d67d3d8b0",
        "id": "lSonLaaqQY7p"
      },
      "execution_count": null,
      "outputs": [
        {
          "output_type": "stream",
          "name": "stdout",
          "text": [
            "(0, 0) -> 1\n",
            "(1, 0) -> 0\n",
            "(0, 1) -> 0\n",
            "(1, 1) -> 0\n"
          ]
        }
      ]
    },
    {
      "cell_type": "markdown",
      "source": [
        "### nand 함수"
      ],
      "metadata": {
        "id": "lFz7V73xIlzo"
      }
    },
    {
      "cell_type": "code",
      "source": [
        "def NAND(x1, x2):\n",
        "    w1, w2, b = -0.2, -0.2, 0.28    # nand\n",
        "    tmp = x1 * w1 + x2 * w2 + b\n",
        "    if tmp <= 0:\n",
        "        return 0\n",
        "    elif tmp > 0:\n",
        "        return 1\n",
        "\n",
        "if __name__ == '__main__':\n",
        "    for xs in [(0, 0), (1, 0), (0, 1), (1, 1)]:\n",
        "        y = NAND(xs[0], xs[1])\n",
        "        print(str(xs) + \" -> \" + str(y))"
      ],
      "metadata": {
        "colab": {
          "base_uri": "https://localhost:8080/"
        },
        "outputId": "5ce76369-8f66-489d-a2f0-b3a9f8ccc669",
        "id": "rABBuMTpQY7p"
      },
      "execution_count": null,
      "outputs": [
        {
          "output_type": "stream",
          "name": "stdout",
          "text": [
            "(0, 0) -> 1\n",
            "(1, 0) -> 1\n",
            "(0, 1) -> 1\n",
            "(1, 1) -> 0\n"
          ]
        }
      ]
    },
    {
      "cell_type": "markdown",
      "source": [
        "### xor 함수"
      ],
      "metadata": {
        "id": "xECEekF_Ilzo"
      }
    },
    {
      "cell_type": "code",
      "source": [
        "def XOR(x1, x2):\n",
        "    s1 = NAND(x1, x2)\n",
        "    s2 = OR(x1, x2)\n",
        "\n",
        "    y = AND(s1, s2)\n",
        "    return y\n",
        "\n",
        "if __name__ == '__main__':\n",
        "    for xs in [(0, 0), (1, 0), (0, 1), (1, 1)]:\n",
        "        y = XOR(xs[0], xs[1])\n",
        "        print(str(xs) + \" -> \" + str(y))"
      ],
      "metadata": {
        "colab": {
          "base_uri": "https://localhost:8080/"
        },
        "outputId": "9ed13cf5-a5b8-43d9-bfc1-ecf6891dd0e3",
        "id": "F0D-mjsvQY7q"
      },
      "execution_count": null,
      "outputs": [
        {
          "output_type": "stream",
          "name": "stdout",
          "text": [
            "(0, 0) -> 0\n",
            "(1, 0) -> 1\n",
            "(0, 1) -> 1\n",
            "(1, 1) -> 0\n"
          ]
        }
      ]
    },
    {
      "cell_type": "markdown",
      "source": [
        "#Vector 연산"
      ],
      "metadata": {
        "id": "npATJo-TEsUh"
      }
    },
    {
      "cell_type": "markdown",
      "source": [
        "np.sum 사용"
      ],
      "metadata": {
        "id": "5zYNYvF5KNPZ"
      }
    },
    {
      "cell_type": "markdown",
      "source": [
        "### or 함수"
      ],
      "metadata": {
        "id": "_BZ2Kb3dInGY"
      }
    },
    {
      "cell_type": "code",
      "metadata": {
        "id": "bubXYt07rZaM",
        "colab": {
          "base_uri": "https://localhost:8080/"
        },
        "outputId": "41f3704f-0b6d-46f3-a231-5c25c09e7ca5"
      },
      "source": [
        "import numpy as np\n",
        "\n",
        "def OR(x1, x2):\n",
        "    x = np.array([x1, x2])\n",
        "    w = np.array([0.2, 0.2])\n",
        "    b = -0.08\n",
        "    tmp = np.sum(w*x) + b\n",
        "    if tmp <= 0:\n",
        "        return 0\n",
        "    else:\n",
        "        return 1\n",
        "\n",
        "if __name__ == '__main__':\n",
        "    for xs in [(0, 0), (1, 0), (0, 1), (1, 1)]:\n",
        "        y = OR(xs[0], xs[1])\n",
        "        print(str(xs) + \" -> \" + str(y))"
      ],
      "execution_count": null,
      "outputs": [
        {
          "output_type": "stream",
          "name": "stdout",
          "text": [
            "(0, 0) -> 0\n",
            "(1, 0) -> 1\n",
            "(0, 1) -> 1\n",
            "(1, 1) -> 1\n"
          ]
        }
      ]
    },
    {
      "cell_type": "markdown",
      "source": [
        "### and 함수"
      ],
      "metadata": {
        "id": "-ZEYdivTInGY"
      }
    },
    {
      "cell_type": "markdown",
      "source": [
        "위 OR 카피 후에 b 변경 구현"
      ],
      "metadata": {
        "id": "zX0C09A_YM4r"
      }
    },
    {
      "cell_type": "code",
      "metadata": {
        "colab": {
          "base_uri": "https://localhost:8080/"
        },
        "outputId": "b81767fa-b203-4004-e3f8-4a86b4865ff0",
        "id": "jHgJVJg_R7kX"
      },
      "source": [
        "# or_gate.py\n",
        "# coding: utf-8\n",
        "import numpy as np\n",
        "\n",
        "def AND(x1, x2):\n",
        "    x = np.array([x1, x2])\n",
        "    w = np.array([0.2, 0.2])\n",
        "    b = -0.28\n",
        "    tmp = np.sum(w*x) + b\n",
        "    if tmp <= 0:\n",
        "        return 0\n",
        "    else:\n",
        "        return 1\n",
        "\n",
        "if __name__ == '__main__':\n",
        "    for xs in [(0, 0), (1, 0), (0, 1), (1, 1)]:\n",
        "        y = AND(xs[0], xs[1])\n",
        "        print(str(xs) + \" -> \" + str(y))"
      ],
      "execution_count": null,
      "outputs": [
        {
          "output_type": "stream",
          "name": "stdout",
          "text": [
            "(0, 0) -> 0\n",
            "(1, 0) -> 0\n",
            "(0, 1) -> 0\n",
            "(1, 1) -> 1\n"
          ]
        }
      ]
    },
    {
      "cell_type": "markdown",
      "source": [
        "### nor 함수"
      ],
      "metadata": {
        "id": "EcEhtbxsInGZ"
      }
    },
    {
      "cell_type": "code",
      "metadata": {
        "colab": {
          "base_uri": "https://localhost:8080/"
        },
        "outputId": "3d129c8b-c39b-47ee-b422-61d367be1592",
        "id": "7gDdZwJ5R9B7"
      },
      "source": [
        "# or_gate.py\n",
        "# coding: utf-8\n",
        "import numpy as np\n",
        "\n",
        "def NOR(x1, x2):\n",
        "    x = np.array([x1, x2])\n",
        "    w = np.array([-0.2, -0.2])\n",
        "    b = 0.08\n",
        "    tmp = np.sum(w*x) + b\n",
        "    if tmp <= 0:\n",
        "        return 0\n",
        "    else:\n",
        "        return 1\n",
        "\n",
        "if __name__ == '__main__':\n",
        "    for xs in [(0, 0), (1, 0), (0, 1), (1, 1)]:\n",
        "        y = NOR(xs[0], xs[1])\n",
        "        print(str(xs) + \" -> \" + str(y))"
      ],
      "execution_count": null,
      "outputs": [
        {
          "output_type": "stream",
          "name": "stdout",
          "text": [
            "(0, 0) -> 1\n",
            "(1, 0) -> 0\n",
            "(0, 1) -> 0\n",
            "(1, 1) -> 0\n"
          ]
        }
      ]
    },
    {
      "cell_type": "markdown",
      "source": [
        "### nand 함수"
      ],
      "metadata": {
        "id": "qvybLfDvInGZ"
      }
    },
    {
      "cell_type": "code",
      "metadata": {
        "colab": {
          "base_uri": "https://localhost:8080/"
        },
        "outputId": "9100e7c5-77ac-4bdf-fa9f-2433bf6efeb8",
        "id": "ZNTHbsy4R-c6"
      },
      "source": [
        "# or_gate.py\n",
        "# coding: utf-8\n",
        "import numpy as np\n",
        "\n",
        "def NAND(x1, x2):\n",
        "    x = np.array([x1, x2])\n",
        "    w = np.array([-0.2, -0.2])\n",
        "    b = 0.28\n",
        "    tmp = np.sum(w*x) + b\n",
        "    if tmp <= 0:\n",
        "        return 0\n",
        "    else:\n",
        "        return 1\n",
        "\n",
        "if __name__ == '__main__':\n",
        "    for xs in [(0, 0), (1, 0), (0, 1), (1, 1)]:\n",
        "        y = NAND(xs[0], xs[1])\n",
        "        print(str(xs) + \" -> \" + str(y))"
      ],
      "execution_count": null,
      "outputs": [
        {
          "output_type": "stream",
          "name": "stdout",
          "text": [
            "(0, 0) -> 1\n",
            "(1, 0) -> 1\n",
            "(0, 1) -> 1\n",
            "(1, 1) -> 0\n"
          ]
        }
      ]
    },
    {
      "cell_type": "markdown",
      "source": [
        "### xor 함수"
      ],
      "metadata": {
        "id": "UTqjdUxNInGZ"
      }
    },
    {
      "cell_type": "code",
      "metadata": {
        "colab": {
          "base_uri": "https://localhost:8080/"
        },
        "outputId": "f2f363db-0625-4466-d835-1d371d664eae",
        "id": "7aTPG0XCR_jU"
      },
      "source": [
        "def XOR(x1, x2):\n",
        "    s1 = NAND(x1, x2)\n",
        "    s2 = OR(x1, x2)\n",
        "\n",
        "    y = AND(s1, s2)\n",
        "    return y\n",
        "\n",
        "if __name__ == '__main__':\n",
        "    for xs in [(0, 0), (1, 0), (0, 1), (1, 1)]:\n",
        "        y = XOR(xs[0], xs[1])\n",
        "        print(str(xs) + \" -> \" + str(y))"
      ],
      "execution_count": null,
      "outputs": [
        {
          "output_type": "stream",
          "name": "stdout",
          "text": [
            "(0, 0) -> 0\n",
            "(1, 0) -> 1\n",
            "(0, 1) -> 1\n",
            "(1, 1) -> 0\n"
          ]
        }
      ]
    }
  ],
  "metadata": {
    "kernelspec": {
      "display_name": "Python 3 (ipykernel)",
      "language": "python",
      "name": "python3"
    },
    "language_info": {
      "codemirror_mode": {
        "name": "ipython",
        "version": 3
      },
      "file_extension": ".py",
      "mimetype": "text/x-python",
      "name": "python",
      "nbconvert_exporter": "python",
      "pygments_lexer": "ipython3",
      "version": "3.9.7"
    },
    "colab": {
      "provenance": [],
      "toc_visible": true
    }
  },
  "nbformat": 4,
  "nbformat_minor": 0
}