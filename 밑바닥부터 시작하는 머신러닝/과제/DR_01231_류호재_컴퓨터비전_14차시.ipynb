{
  "cells": [
    {
      "cell_type": "markdown",
      "source": [
        "#문제"
      ],
      "metadata": {
        "id": "CBwMjmqXEb16"
      }
    },
    {
      "cell_type": "markdown",
      "source": [
        "$w_{1} = 0.2$,  $w_{2}= 0.2$일 때 임계값 theta 또는 bias를 정하고 아래의 함수를 완성하시오.\n",
        "- 스칼라 연산\n",
        "  - 임계값 theta를 사용하여 or, and, nor, nand, xor를 구함\n",
        "  - bias 사용하여 or, and, nor, nand, xor를 구함\n",
        "- 벡터 연산\n",
        "  - 넘파이 np.sum을 사용하여 or, and, nor, nand, xor를 구함"
      ],
      "metadata": {
        "id": "SNkknlU6Houc"
      }
    },
    {
      "cell_type": "markdown",
      "source": [
        "#SCALAR 연산"
      ],
      "metadata": {
        "id": "97Ksskx2E6uh"
      }
    },
    {
      "cell_type": "markdown",
      "source": [
        "## 임계값 theta로 구현\n",
        "\n"
      ],
      "metadata": {
        "id": "bEwJjIshRw16"
      }
    },
    {
      "cell_type": "markdown",
      "source": [
        "$$\n",
        " y=\n",
        "\\begin{cases}\n",
        "0&(w_{1} x_{1} + w_{2} x_{2} \\leq {\\theta})\\\\\n",
        "1&(w_{1} x_{1} + w_{2} x_{2} > {\\theta})\n",
        "\\end{cases}\n",
        "$$"
      ],
      "metadata": {
        "id": "h5yTo5ObQPTg"
      }
    },
    {
      "cell_type": "markdown",
      "source": [
        "### or 함수"
      ],
      "metadata": {
        "id": "ylbSFpFNILA-"
      }
    },
    {
      "cell_type": "code",
      "source": [
        "def OR(x1, x2):\n",
        "    w1, w2, theta = 0.2, 0.2, 0.1       # or\n",
        "    tmp = x1 * w1 + x2 * w2\n",
        "    if tmp <= theta:\n",
        "        return 0\n",
        "    elif tmp > theta:\n",
        "        return 1\n",
        "\n",
        "if __name__ == '__main__':\n",
        "    for xs in [(0, 0), (1, 0), (0, 1), (1, 1)]:\n",
        "        y = OR(xs[0], xs[1])\n",
        "        print(str(xs) + \" -> \" + str(y))"
      ],
      "metadata": {
        "colab": {
          "base_uri": "https://localhost:8080/"
        },
        "id": "X0JibPFcTPPq",
        "outputId": "215d7b28-8b03-45e1-aa8f-5706c323d0df"
      },
      "execution_count": 3,
      "outputs": [
        {
          "output_type": "stream",
          "name": "stdout",
          "text": [
            "(0, 0) -> 0\n",
            "(1, 0) -> 1\n",
            "(0, 1) -> 1\n",
            "(1, 1) -> 1\n"
          ]
        }
      ]
    },
    {
      "cell_type": "markdown",
      "source": [
        "### and 함수"
      ],
      "metadata": {
        "id": "uEZNwJhEIQjm"
      }
    },
    {
      "cell_type": "markdown",
      "source": [
        "위 OR 카피 후에 theta 변경 구현"
      ],
      "metadata": {
        "id": "OwRCK_1pXonl"
      }
    },
    {
      "cell_type": "code",
      "source": [
        "def AND(x1, x2):\n",
        "    w1, w2, theta = 0.2, 0.2, 0.2   # and\n",
        "    tmp = x1 * w1 + x2 * w2\n",
        "    if tmp <= theta:\n",
        "        return 0\n",
        "    elif tmp > theta:\n",
        "        return 1\n",
        "\n",
        "if __name__ == '__main__':\n",
        "    for xs in [(0, 0), (1, 0), (0, 1), (1, 1)]:\n",
        "        y = AND(xs[0], xs[1])\n",
        "        print(str(xs) + \" -> \" + str(y))"
      ],
      "metadata": {
        "id": "H_RuivjqZdz1",
        "colab": {
          "base_uri": "https://localhost:8080/"
        },
        "outputId": "d15ffaf9-0fe3-43e9-8021-4dfb46c0a1f7"
      },
      "execution_count": 1,
      "outputs": [
        {
          "output_type": "stream",
          "name": "stdout",
          "text": [
            "(0, 0) -> 0\n",
            "(1, 0) -> 0\n",
            "(0, 1) -> 0\n",
            "(1, 1) -> 1\n"
          ]
        }
      ]
    },
    {
      "cell_type": "markdown",
      "source": [
        "### nor 함수"
      ],
      "metadata": {
        "id": "fdMCQvvzIT7z"
      }
    },
    {
      "cell_type": "code",
      "source": [
        "def NOR(x1, x2):\n",
        "    w1, w2, theta = -0.2, -0.2, -0.1\n",
        "    tmp = x1 * w1 + x2 * w2\n",
        "    if tmp <= theta:\n",
        "        return 0\n",
        "    elif tmp > theta:\n",
        "        return 1\n",
        "\n",
        "if __name__ == '__main__':\n",
        "    for xs in [(0, 0), (1, 0), (0, 1), (1, 1)]:\n",
        "        y = NOR(xs[0], xs[1])\n",
        "        print(str(xs) + \" -> \" + str(y))"
      ],
      "metadata": {
        "id": "c0PVIKgDZett",
        "colab": {
          "base_uri": "https://localhost:8080/"
        },
        "outputId": "cab7d898-a398-45a6-b02e-3ee43b5d229f"
      },
      "execution_count": 6,
      "outputs": [
        {
          "output_type": "stream",
          "name": "stdout",
          "text": [
            "(0, 0) -> 1\n",
            "(1, 0) -> 0\n",
            "(0, 1) -> 0\n",
            "(1, 1) -> 0\n"
          ]
        }
      ]
    },
    {
      "cell_type": "markdown",
      "source": [
        "### nand 함수"
      ],
      "metadata": {
        "id": "eO0AbYRlIW6H"
      }
    },
    {
      "cell_type": "code",
      "source": [
        "def NAND(x1, x2):\n",
        "    w1, w2, theta = -0.2, -0.2, -0.3\n",
        "    tmp = x1 * w1 + x2 * w2\n",
        "    if tmp <= theta:\n",
        "        return 0\n",
        "    elif tmp > theta:\n",
        "        return 1\n",
        "\n",
        "if __name__ == '__main__':\n",
        "    for xs in [(0, 0), (1, 0), (0, 1), (1, 1)]:\n",
        "        y = NAND(xs[0], xs[1])\n",
        "        print(str(xs) + \" -> \" + str(y))"
      ],
      "metadata": {
        "id": "VWqtGzm5Zgqo",
        "colab": {
          "base_uri": "https://localhost:8080/"
        },
        "outputId": "f446d1c4-aed5-478d-d832-579ab0cce747"
      },
      "execution_count": 7,
      "outputs": [
        {
          "output_type": "stream",
          "name": "stdout",
          "text": [
            "(0, 0) -> 1\n",
            "(1, 0) -> 1\n",
            "(0, 1) -> 1\n",
            "(1, 1) -> 0\n"
          ]
        }
      ]
    },
    {
      "cell_type": "markdown",
      "source": [
        "### xor 함수"
      ],
      "metadata": {
        "id": "SedV67wWId5T"
      }
    },
    {
      "cell_type": "code",
      "source": [
        "if __name__ == '__main__':\n",
        "    for xs in [(0, 0), (1, 0), (0, 1), (1, 1)]:\n",
        "        y1 = NAND(xs[0], xs[1])\n",
        "        y2 = OR(xs[0], xs[1])\n",
        "        y = AND(y1, y2)\n",
        "        print(str(xs) + \" -> \" + str(y))"
      ],
      "metadata": {
        "id": "aHsH8Gx0Zh-h",
        "colab": {
          "base_uri": "https://localhost:8080/"
        },
        "outputId": "93b700b2-9bd6-4cb6-b36e-564361ad51e1"
      },
      "execution_count": 8,
      "outputs": [
        {
          "output_type": "stream",
          "name": "stdout",
          "text": [
            "(0, 0) -> 0\n",
            "(1, 0) -> 1\n",
            "(0, 1) -> 1\n",
            "(1, 1) -> 0\n"
          ]
        }
      ]
    },
    {
      "cell_type": "markdown",
      "source": [
        "## 편향 b를 사용하여 구현\n",
        "\n"
      ],
      "metadata": {
        "id": "Vsidlt5dEV2K"
      }
    },
    {
      "cell_type": "markdown",
      "source": [
        "$$\n",
        " y=\n",
        "\\begin{cases}\n",
        "0&(b + w_{1} x_{1} + w_{2} x_{2} \\leq 0)\\\\\n",
        "1&(b + w_{1} x_{1} + w_{2} x_{2} > 0)\n",
        "\\end{cases}\n",
        "$$"
      ],
      "metadata": {
        "id": "wh3SlW1rXdQv"
      }
    },
    {
      "cell_type": "markdown",
      "source": [
        "### or 함수"
      ],
      "metadata": {
        "id": "rAKfBap-Ilzm"
      }
    },
    {
      "cell_type": "code",
      "source": [
        "def OR(x1, x2):\n",
        "    w1, w2, b = 0.2, 0.2, -0.1       # or\n",
        "    tmp = x1 * w1 + x2 * w2 + b\n",
        "    if tmp <= 0:\n",
        "        return 0\n",
        "    elif tmp > 0:\n",
        "        return 1\n",
        "\n",
        "if __name__ == '__main__':\n",
        "    for xs in [(0, 0), (1, 0), (0, 1), (1, 1)]:\n",
        "        y = OR(xs[0], xs[1])\n",
        "        print(str(xs) + \" -> \" + str(y))"
      ],
      "metadata": {
        "colab": {
          "base_uri": "https://localhost:8080/"
        },
        "outputId": "46ee9a45-9709-4386-96e3-dec7a0e23486",
        "id": "sg3ul-kuQETy"
      },
      "execution_count": 9,
      "outputs": [
        {
          "output_type": "stream",
          "name": "stdout",
          "text": [
            "(0, 0) -> 0\n",
            "(1, 0) -> 1\n",
            "(0, 1) -> 1\n",
            "(1, 1) -> 1\n"
          ]
        }
      ]
    },
    {
      "cell_type": "markdown",
      "source": [
        "### and 함수"
      ],
      "metadata": {
        "id": "fPCE2IuMIlzn"
      }
    },
    {
      "cell_type": "markdown",
      "source": [
        "위 OR 카피 후에 b 변경 구현"
      ],
      "metadata": {
        "id": "aXAh-ApsX_bC"
      }
    },
    {
      "cell_type": "code",
      "source": [
        "def AND(x1, x2):\n",
        "    w1, w2, b = 0.2, 0.2, -0.3       # or\n",
        "    tmp = x1 * w1 + x2 * w2 + b\n",
        "    if tmp <= 0:\n",
        "        return 0\n",
        "    elif tmp > 0:\n",
        "        return 1\n",
        "\n",
        "if __name__ == '__main__':\n",
        "    for xs in [(0, 0), (1, 0), (0, 1), (1, 1)]:\n",
        "        y = AND(xs[0], xs[1])\n",
        "        print(str(xs) + \" -> \" + str(y))"
      ],
      "metadata": {
        "id": "oXlCxf0mZnlB",
        "colab": {
          "base_uri": "https://localhost:8080/"
        },
        "outputId": "4426f927-3521-42c3-9400-5dbccc3964b5"
      },
      "execution_count": 10,
      "outputs": [
        {
          "output_type": "stream",
          "name": "stdout",
          "text": [
            "(0, 0) -> 0\n",
            "(1, 0) -> 0\n",
            "(0, 1) -> 0\n",
            "(1, 1) -> 1\n"
          ]
        }
      ]
    },
    {
      "cell_type": "markdown",
      "source": [
        "### nor 함수"
      ],
      "metadata": {
        "id": "z8iBP_shIlzo"
      }
    },
    {
      "cell_type": "code",
      "source": [
        "def NOR(x1, x2):\n",
        "    w1, w2, b = -0.2, -0.2, 0.1       # or\n",
        "    tmp = x1 * w1 + x2 * w2 + b\n",
        "    if tmp <= 0:\n",
        "        return 0\n",
        "    elif tmp > 0:\n",
        "        return 1\n",
        "\n",
        "if __name__ == '__main__':\n",
        "    for xs in [(0, 0), (1, 0), (0, 1), (1, 1)]:\n",
        "        y = NOR(xs[0], xs[1])\n",
        "        print(str(xs) + \" -> \" + str(y))"
      ],
      "metadata": {
        "id": "aj5Up9S5ZpHA",
        "colab": {
          "base_uri": "https://localhost:8080/"
        },
        "outputId": "1294dcb1-6e8c-43a2-aedd-a3ba525e573f"
      },
      "execution_count": 13,
      "outputs": [
        {
          "output_type": "stream",
          "name": "stdout",
          "text": [
            "(0, 0) -> 1\n",
            "(1, 0) -> 0\n",
            "(0, 1) -> 0\n",
            "(1, 1) -> 0\n"
          ]
        }
      ]
    },
    {
      "cell_type": "markdown",
      "source": [
        "### nand 함수"
      ],
      "metadata": {
        "id": "lFz7V73xIlzo"
      }
    },
    {
      "cell_type": "code",
      "source": [
        "def NAND(x1, x2):\n",
        "    w1, w2, b = -0.2, -0.2, 0.3       # or\n",
        "    tmp = x1 * w1 + x2 * w2 + b\n",
        "    if tmp <= 0:\n",
        "        return 0\n",
        "    elif tmp > 0:\n",
        "        return 1\n",
        "\n",
        "if __name__ == '__main__':\n",
        "    for xs in [(0, 0), (1, 0), (0, 1), (1, 1)]:\n",
        "        y = NAND(xs[0], xs[1])\n",
        "        print(str(xs) + \" -> \" + str(y))"
      ],
      "metadata": {
        "id": "dR-O66m5Zqf8",
        "colab": {
          "base_uri": "https://localhost:8080/"
        },
        "outputId": "bd8a038a-ad15-4944-a075-7771d642c45f"
      },
      "execution_count": 14,
      "outputs": [
        {
          "output_type": "stream",
          "name": "stdout",
          "text": [
            "(0, 0) -> 1\n",
            "(1, 0) -> 1\n",
            "(0, 1) -> 1\n",
            "(1, 1) -> 0\n"
          ]
        }
      ]
    },
    {
      "cell_type": "markdown",
      "source": [
        "### xor 함수"
      ],
      "metadata": {
        "id": "xECEekF_Ilzo"
      }
    },
    {
      "cell_type": "code",
      "source": [
        "if __name__ == '__main__':\n",
        "    for xs in [(0, 0), (1, 0), (0, 1), (1, 1)]:\n",
        "        y1 = NAND(xs[0], xs[1])\n",
        "        y2 = OR(xs[0], xs[1])\n",
        "        y = AND(y1, y2)\n",
        "        print(str(xs) + \" -> \" + str(y))"
      ],
      "metadata": {
        "id": "PFvk3xWOZrpC",
        "colab": {
          "base_uri": "https://localhost:8080/"
        },
        "outputId": "e6b07576-dc7d-4e61-abeb-d7d1737c2aa9"
      },
      "execution_count": 15,
      "outputs": [
        {
          "output_type": "stream",
          "name": "stdout",
          "text": [
            "(0, 0) -> 0\n",
            "(1, 0) -> 1\n",
            "(0, 1) -> 1\n",
            "(1, 1) -> 0\n"
          ]
        }
      ]
    },
    {
      "cell_type": "markdown",
      "source": [
        "#Vector 연산"
      ],
      "metadata": {
        "id": "npATJo-TEsUh"
      }
    },
    {
      "cell_type": "markdown",
      "source": [
        "np.sum 사용"
      ],
      "metadata": {
        "id": "5zYNYvF5KNPZ"
      }
    },
    {
      "cell_type": "markdown",
      "source": [
        "### or 함수"
      ],
      "metadata": {
        "id": "_BZ2Kb3dInGY"
      }
    },
    {
      "cell_type": "code",
      "metadata": {
        "id": "bubXYt07rZaM",
        "colab": {
          "base_uri": "https://localhost:8080/"
        },
        "outputId": "8d40cd6f-e834-4634-a892-9552e4334ca1"
      },
      "source": [
        "import numpy as np\n",
        "\n",
        "def OR(x1, x2):\n",
        "    x = np.array([x1, x2])\n",
        "    w = np.array([0.2, 0.2])\n",
        "    b = -0.1\n",
        "    tmp = np.sum(w*x) + b\n",
        "    if tmp <= 0:\n",
        "        return 0\n",
        "    else:\n",
        "        return 1\n",
        "\n",
        "if __name__ == '__main__':\n",
        "    for xs in [(0, 0), (1, 0), (0, 1), (1, 1)]:\n",
        "        y = OR(xs[0], xs[1])\n",
        "        print(str(xs) + \" -> \" + str(y))"
      ],
      "execution_count": 16,
      "outputs": [
        {
          "output_type": "stream",
          "name": "stdout",
          "text": [
            "(0, 0) -> 0\n",
            "(1, 0) -> 1\n",
            "(0, 1) -> 1\n",
            "(1, 1) -> 1\n"
          ]
        }
      ]
    },
    {
      "cell_type": "markdown",
      "source": [
        "### and 함수"
      ],
      "metadata": {
        "id": "-ZEYdivTInGY"
      }
    },
    {
      "cell_type": "markdown",
      "source": [
        "위 OR 카피 후에 b 변경 구현"
      ],
      "metadata": {
        "id": "zX0C09A_YM4r"
      }
    },
    {
      "cell_type": "code",
      "source": [
        "import numpy as np\n",
        "\n",
        "def AND(x1, x2):\n",
        "    x = np.array([x1, x2])\n",
        "    w = np.array([0.2, 0.2])\n",
        "    b = -0.3\n",
        "    tmp = np.sum(w*x) + b\n",
        "    if tmp <= 0:\n",
        "        return 0\n",
        "    else:\n",
        "        return 1\n",
        "\n",
        "if __name__ == '__main__':\n",
        "    for xs in [(0, 0), (1, 0), (0, 1), (1, 1)]:\n",
        "        y = AND(xs[0], xs[1])\n",
        "        print(str(xs) + \" -> \" + str(y))"
      ],
      "metadata": {
        "id": "UtVnpgiPZv8q",
        "colab": {
          "base_uri": "https://localhost:8080/"
        },
        "outputId": "aa59b935-3bf5-4b75-d490-871f31e41e69"
      },
      "execution_count": 17,
      "outputs": [
        {
          "output_type": "stream",
          "name": "stdout",
          "text": [
            "(0, 0) -> 0\n",
            "(1, 0) -> 0\n",
            "(0, 1) -> 0\n",
            "(1, 1) -> 1\n"
          ]
        }
      ]
    },
    {
      "cell_type": "markdown",
      "source": [
        "### nor 함수"
      ],
      "metadata": {
        "id": "EcEhtbxsInGZ"
      }
    },
    {
      "cell_type": "code",
      "source": [
        "import numpy as np\n",
        "\n",
        "def NOR(x1, x2):\n",
        "    x = np.array([x1, x2])\n",
        "    w = np.array([-0.2, -0.2])\n",
        "    b = 0.1\n",
        "    tmp = np.sum(w*x) + b\n",
        "    if tmp <= 0:\n",
        "        return 0\n",
        "    else:\n",
        "        return 1\n",
        "\n",
        "if __name__ == '__main__':\n",
        "    for xs in [(0, 0), (1, 0), (0, 1), (1, 1)]:\n",
        "        y = NOR(xs[0], xs[1])\n",
        "        print(str(xs) + \" -> \" + str(y))"
      ],
      "metadata": {
        "id": "EBvMBmzuZxpD",
        "colab": {
          "base_uri": "https://localhost:8080/"
        },
        "outputId": "d2618e88-123b-40cc-94ec-fd7d5f5d3694"
      },
      "execution_count": 19,
      "outputs": [
        {
          "output_type": "stream",
          "name": "stdout",
          "text": [
            "(0, 0) -> 1\n",
            "(1, 0) -> 0\n",
            "(0, 1) -> 0\n",
            "(1, 1) -> 0\n"
          ]
        }
      ]
    },
    {
      "cell_type": "markdown",
      "source": [
        "### nand 함수"
      ],
      "metadata": {
        "id": "qvybLfDvInGZ"
      }
    },
    {
      "cell_type": "code",
      "source": [
        "import numpy as np\n",
        "\n",
        "def NAND(x1, x2):\n",
        "    x = np.array([x1, x2])\n",
        "    w = np.array([-0.2, -0.2])\n",
        "    b = 0.3\n",
        "    tmp = np.sum(w*x) + b\n",
        "    if tmp <= 0:\n",
        "        return 0\n",
        "    else:\n",
        "        return 1\n",
        "\n",
        "if __name__ == '__main__':\n",
        "    for xs in [(0, 0), (1, 0), (0, 1), (1, 1)]:\n",
        "        y = NAND(xs[0], xs[1])\n",
        "        print(str(xs) + \" -> \" + str(y))"
      ],
      "metadata": {
        "id": "oLrx09RDZyh8",
        "colab": {
          "base_uri": "https://localhost:8080/"
        },
        "outputId": "a39674d3-850e-4384-9a0d-4edeadcfbd4b"
      },
      "execution_count": 20,
      "outputs": [
        {
          "output_type": "stream",
          "name": "stdout",
          "text": [
            "(0, 0) -> 1\n",
            "(1, 0) -> 1\n",
            "(0, 1) -> 1\n",
            "(1, 1) -> 0\n"
          ]
        }
      ]
    },
    {
      "cell_type": "markdown",
      "source": [
        "### xor 함수"
      ],
      "metadata": {
        "id": "UTqjdUxNInGZ"
      }
    },
    {
      "cell_type": "code",
      "source": [
        "if __name__ == '__main__':\n",
        "    for xs in [(0, 0), (1, 0), (0, 1), (1, 1)]:\n",
        "        y1 = NAND(xs[0], xs[1])\n",
        "        y2 = OR(xs[0], xs[1])\n",
        "        y = AND(y1, y2)\n",
        "        print(str(xs) + \" -> \" + str(y))"
      ],
      "metadata": {
        "id": "jkRdjGBeZz4Z",
        "colab": {
          "base_uri": "https://localhost:8080/"
        },
        "outputId": "16e481f5-b75c-4697-fd73-5e739f29a88f"
      },
      "execution_count": 21,
      "outputs": [
        {
          "output_type": "stream",
          "name": "stdout",
          "text": [
            "(0, 0) -> 0\n",
            "(1, 0) -> 1\n",
            "(0, 1) -> 1\n",
            "(1, 1) -> 0\n"
          ]
        }
      ]
    },
    {
      "cell_type": "code",
      "source": [],
      "metadata": {
        "id": "0-HvDW6hCIGi"
      },
      "execution_count": null,
      "outputs": []
    }
  ],
  "metadata": {
    "kernelspec": {
      "display_name": "Python 3 (ipykernel)",
      "language": "python",
      "name": "python3"
    },
    "language_info": {
      "codemirror_mode": {
        "name": "ipython",
        "version": 3
      },
      "file_extension": ".py",
      "mimetype": "text/x-python",
      "name": "python",
      "nbconvert_exporter": "python",
      "pygments_lexer": "ipython3",
      "version": "3.9.7"
    },
    "colab": {
      "provenance": [],
      "toc_visible": true
    }
  },
  "nbformat": 4,
  "nbformat_minor": 0
}