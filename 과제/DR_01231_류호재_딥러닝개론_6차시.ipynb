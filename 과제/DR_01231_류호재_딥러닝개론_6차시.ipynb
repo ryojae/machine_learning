{
  "cells": [
    {
      "cell_type": "markdown",
      "metadata": {
        "id": "nmq_ohyPB_im"
      },
      "source": [
        "# 답안 작성 방법\n",
        "\n",
        "아래 이미지에서 \"더블클릭 또는 Enter키를 눌러 수정\"을 누르신후 해당 창에 답을 적으시면 됩니다.\n",
        "\n",
        "![image](https://github.com/user-attachments/assets/2aa2ff05-fb0e-4f00-a121-78afeaad4f09)\n",
        "\n",
        "<br>\n",
        "<br>\n",
        "<br>\n",
        "<br>\n",
        "<br>\n",
        "<br>\n",
        "<br>\n",
        "<br>\n",
        "<br>"
      ]
    },
    {
      "cell_type": "markdown",
      "metadata": {
        "id": "JiAFUXF2DadY"
      },
      "source": [
        "# 05차시 과제"
      ]
    },
    {
      "cell_type": "markdown",
      "metadata": {
        "id": "KiuKTyyKCiiA"
      },
      "source": [
        "### Q1. \"Data\"와 \"Information\"의 차이를 정의하고, 그 차이를 설명하는 예시를 하나 들어 설명하시오."
      ]
    },
    {
      "cell_type": "markdown",
      "metadata": {
        "id": "0t3nZS6iCiiA"
      },
      "source": [
        "Data는 사실이나 측정값이고 Information은 데이터를 분석하고 해석하여 맥락이나 의미가 부여된 상태이다.\n",
        "예시로는 날씨가 있다."
      ]
    },
    {
      "cell_type": "markdown",
      "metadata": {
        "id": "roOMW2EoCiiA"
      },
      "source": [
        "### Q2. 다음 중 Data에 대한 설명으로 옳은 것을 고르시오.\n",
        "\n",
        "1. 데이터를 특정 맥락에서 처리하여 얻어진 의미 있는 내용이다.\n",
        "2. 가공되지 않은 원시적인 사실이나 숫자, 관찰된 값이다.\n",
        "3. 특정 상황에서 의사 결정을 돕기 위해 사용되는 해석된 자료이다.\n",
        "4. 정보를 해석한 후 얻어진 데이터이다.\n",
        "\n"
      ]
    },
    {
      "cell_type": "markdown",
      "metadata": {
        "id": "3F2dMhmDCiiB"
      },
      "source": [
        "2번"
      ]
    },
    {
      "cell_type": "markdown",
      "metadata": {
        "id": "fIzoknrlCiiB"
      },
      "source": [
        "### Q3. 다음 중 Information에 해당하는 것을 고르시오.\n",
        "\n",
        "1. 25\n",
        "2. \"고객의 평균 연령은 25세입니다.\"\n",
        "3. \"파란색\"\n",
        "4. 2024년 1월 1일\n",
        "\n"
      ]
    },
    {
      "cell_type": "markdown",
      "metadata": {
        "id": "Yi4ew2OtCiiB"
      },
      "source": [
        "2번"
      ]
    },
    {
      "cell_type": "markdown",
      "metadata": {
        "id": "rm2Sr1_pCiiC"
      },
      "source": [
        "### Q4. 원-핫 인코딩이 무엇이고 왜 사용하는지 서술하시오."
      ]
    },
    {
      "cell_type": "markdown",
      "metadata": {
        "id": "Gf_5CKzrCiiC"
      },
      "source": [
        "범주형 데이터를 이진 벡터로 변환해서 컴퓨터가 범주형 데이터를 효율적으로 처리할 수 있게 하기 위해서이다."
      ]
    },
    {
      "cell_type": "markdown",
      "metadata": {
        "id": "_OPtmvS-CiiC"
      },
      "source": [
        "### Q5. Sofmax가 무엇인지 정의하고, 어떠한 상황에서 주로 사용되는지 설명하시오."
      ]
    },
    {
      "cell_type": "markdown",
      "metadata": {
        "id": "DvNEvcZ8CiiC"
      },
      "source": [
        "각 클래스에 대한 점수를 확률로 변환해주는 활성화 함수이다.\n",
        "다중 클래스 분류 문제에서 주로 사용된다."
      ]
    },
    {
      "cell_type": "markdown",
      "metadata": {
        "id": "LyPIFWTWCiiC"
      },
      "source": [
        "### Q6. 아래 제공된 벡터 x가 softmax를 통과하면 어떻게 변하는지 구하시오.\n",
        "\n",
        "$$\n",
        "\n",
        "    x = [1,2,3,4]\n",
        "\n",
        "$$"
      ]
    },
    {
      "cell_type": "markdown",
      "metadata": {
        "id": "TylDw2neCiiD"
      },
      "source": [
        "Softmax(x) ≈ [0.0322,0.0871,0.2369,0.6438]"
      ]
    },
    {
      "cell_type": "markdown",
      "metadata": {
        "id": "4lnFdDmXCiiD"
      },
      "source": [
        "### Q7. Cost function이 무엇이고 언제 무엇을 위해 사용하는지에 대해 서술하시오."
      ]
    },
    {
      "cell_type": "markdown",
      "metadata": {
        "id": "a6BfhPNkCiiD"
      },
      "source": [
        "Cost Function은 머신러닝 모델이 예측한 값과 실제 값 사이의 차이를 수치적으로 표현한 함수다. 모델이 얼마나 잘 학습되고 있는지, 또는 예측이 얼마나 정확한지를 평가하기 위해 사용된다."
      ]
    },
    {
      "cell_type": "markdown",
      "metadata": {
        "id": "XmX6bZN2CiiD"
      },
      "source": [
        "### Q8. 지도학습과 비지도학습의 차이점에 대해 서술하시오."
      ]
    },
    {
      "cell_type": "markdown",
      "metadata": {
        "id": "1v2NZcXxCiiD"
      },
      "source": [
        "정답을 알려주고 학습하는 것은 지도학습이고 정답없이 학습하는 것은 비지도학습이다."
      ]
    }
  ],
  "metadata": {
    "colab": {
      "provenance": []
    },
    "kernelspec": {
      "display_name": "Python 3",
      "name": "python3"
    },
    "language_info": {
      "codemirror_mode": {
        "name": "ipython",
        "version": 3
      },
      "file_extension": ".py",
      "mimetype": "text/x-python",
      "name": "python",
      "nbconvert_exporter": "python",
      "pygments_lexer": "ipython3",
      "version": "3.12.4"
    }
  },
  "nbformat": 4,
  "nbformat_minor": 0
}